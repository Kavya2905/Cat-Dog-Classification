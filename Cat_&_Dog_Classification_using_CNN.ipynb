{
  "nbformat": 4,
  "nbformat_minor": 0,
  "metadata": {
    "colab": {
      "name": "Cat & Dog Classification using CNN.ipynb",
      "provenance": [],
      "collapsed_sections": [],
      "authorship_tag": "ABX9TyMWN5f+7h8IOiUK9rsS+A5s",
      "include_colab_link": true
    },
    "kernelspec": {
      "name": "python3",
      "display_name": "Python 3"
    },
    "accelerator": "GPU"
  },
  "cells": [
    {
      "cell_type": "markdown",
      "metadata": {
        "id": "view-in-github",
        "colab_type": "text"
      },
      "source": [
        "<a href=\"https://colab.research.google.com/github/Kavya2905/Cat-Dog-Classification/blob/main/Cat_%26_Dog_Classification_using_CNN.ipynb\" target=\"_parent\"><img src=\"https://colab.research.google.com/assets/colab-badge.svg\" alt=\"Open In Colab\"/></a>"
      ]
    },
    {
      "cell_type": "code",
      "metadata": {
        "colab": {
          "base_uri": "https://localhost:8080/"
        },
        "id": "dfaPQd12cyNe",
        "outputId": "3eaa682b-a749-43a3-903a-726a817ca34d"
      },
      "source": [
        "#get access google drive data into google colab\n",
        "from google.colab import drive\n",
        "drive.mount('/content/drive')     #To link to Google Drive"
      ],
      "execution_count": null,
      "outputs": [
        {
          "output_type": "stream",
          "text": [
            "Mounted at /content/drive\n"
          ],
          "name": "stdout"
        }
      ]
    },
    {
      "cell_type": "code",
      "metadata": {
        "colab": {
          "base_uri": "https://localhost:8080/"
        },
        "id": "saW3rUROeAeY",
        "outputId": "93171682-b6fb-46f9-da81-9116d087e14a"
      },
      "source": [
        "# to extract from zip file\n",
        "from zipfile import ZipFile                         \n",
        "file_name = \"/content/drive/My Drive/dataset_new.zip\"\n",
        "with ZipFile(file_name,'r') as zip:\n",
        "  zip.extractall()\n",
        "  print('finish')"
      ],
      "execution_count": null,
      "outputs": [
        {
          "output_type": "stream",
          "text": [
            "finish\n"
          ],
          "name": "stdout"
        }
      ]
    },
    {
      "cell_type": "code",
      "metadata": {
        "id": "g-GtV6vNekrA"
      },
      "source": [
        "### Importing libraries\n",
        "\n",
        "import keras\n",
        "from keras.models import Sequential\n",
        "from keras.preprocessing.image import ImageDataGenerator\n",
        "from keras.layers import Dense, Activation, Flatten, Dropout\n",
        "from keras.layers import Conv2D, MaxPooling2D\n",
        "import numpy as np"
      ],
      "execution_count": null,
      "outputs": []
    },
    {
      "cell_type": "code",
      "metadata": {
        "id": "ocxCCcnWfJ4W"
      },
      "source": [
        "### Creating model and layers\n",
        "\n",
        "model = Sequential();\n",
        "# Step 1 - Convolution\n",
        "model.add(Conv2D(32,(3,3),input_shape=(64,64,3),activation='relu'))\n",
        "model.add(MaxPooling2D(pool_size=(2,2)))\n",
        "model.add(Dropout(0.2))\n",
        "# Step 1 - Convolution\n",
        "model.add(Conv2D(64,(3,3),activation='relu'))\n",
        "# Step 2 - Pooling\n",
        "model.add(MaxPooling2D(pool_size=(2,2)))\n",
        "model.add(Dropout(0.3))\n",
        "model.add(Conv2D(128,(3,3),activation='relu'))\n",
        "# Step 2 - Pooling\n",
        "model.add(MaxPooling2D(pool_size=(2,2)))\n",
        "model.add(Dropout(0.4))\n",
        "# Step 3 - Flattening\n",
        "model.add(Flatten())\n",
        "### Hidden and output\n",
        "# Step 4 - Full connection\n",
        "#model.add(Dense(128, activation='relu'))    ### hidden layer\n",
        "model.add(Dense(1, activation='sigmoid'))   ## output layer\n",
        "# Compiling the CNN\n",
        "model.compile(optimizer ='adam',loss='binary_crossentropy',metrics=['accuracy'])"
      ],
      "execution_count": null,
      "outputs": []
    },
    {
      "cell_type": "code",
      "metadata": {
        "id": "oiO5B06tfNSS"
      },
      "source": [
        "# https://keras.io/api/preprocessing/image/#imagedatagenerator-class\n",
        "\n",
        "train_datagen = ImageDataGenerator(rescale = 1./255,\n",
        "                                   shear_range = 0.2,\n",
        "                                   zoom_range = 0.2,\n",
        "                                   horizontal_flip = True)\n",
        "test_datagen = ImageDataGenerator(rescale = 1./255,\n",
        "                                  shear_range = 0.2,\n",
        "                                   zoom_range = 0.2,\n",
        "                                   horizontal_flip = True)"
      ],
      "execution_count": null,
      "outputs": []
    },
    {
      "cell_type": "code",
      "metadata": {
        "colab": {
          "base_uri": "https://localhost:8080/"
        },
        "id": "s3b4EZJRfT4G",
        "outputId": "1780141f-62c3-44ff-8be4-35d126c2ce27"
      },
      "source": [
        "training_set = train_datagen.flow_from_directory('/content/dataset_new/training_set',\n",
        "                                                 target_size = (64, 64),\n",
        "                                                 batch_size = 32,\n",
        "                                                 class_mode = 'binary')"
      ],
      "execution_count": null,
      "outputs": [
        {
          "output_type": "stream",
          "text": [
            "Found 2000 images belonging to 2 classes.\n"
          ],
          "name": "stdout"
        }
      ]
    },
    {
      "cell_type": "code",
      "metadata": {
        "colab": {
          "base_uri": "https://localhost:8080/"
        },
        "id": "MpJHkMUlfabT",
        "outputId": "83e760df-56fc-497f-fcad-f9d40607f23b"
      },
      "source": [
        "test_set = test_datagen.flow_from_directory('/content/dataset_new/test_set',\n",
        "                                            target_size = (64, 64),\n",
        "                                            batch_size = 32,\n",
        "                                            class_mode = 'binary')"
      ],
      "execution_count": null,
      "outputs": [
        {
          "output_type": "stream",
          "text": [
            "Found 500 images belonging to 2 classes.\n"
          ],
          "name": "stdout"
        }
      ]
    },
    {
      "cell_type": "code",
      "metadata": {
        "id": "BLBXB8nyfe4U"
      },
      "source": [
        "### Training the model\n",
        "\n",
        "model.fit_generator(training_set,\n",
        "                         epochs = 200,\n",
        "                         steps_per_epoch=2000//32,\n",
        "                         validation_steps=500//32,\n",
        "                         validation_data = test_set)"
      ],
      "execution_count": null,
      "outputs": []
    },
    {
      "cell_type": "code",
      "metadata": {
        "colab": {
          "base_uri": "https://localhost:8080/"
        },
        "id": "cJP92VcFfiyP",
        "outputId": "87c0c77f-38f4-48f5-aad0-c82bc527371a"
      },
      "source": [
        "import numpy as np\n",
        "from keras.preprocessing import image \n",
        "test_image = image.load_img('dog.jpg',target_size=(64,64))\n",
        "test_image = image.img_to_array(test_image)\n",
        "test_image = np.expand_dims(test_image,axis=0)\n",
        "result = model.predict(test_image)  ## flattening\n",
        "if result[0][0] == 1:\n",
        "  prediction = 'dog'\n",
        "  print(prediction)\n",
        "else:\n",
        "  prediction = 'cat'\n",
        "  print(prediction)\n"
      ],
      "execution_count": null,
      "outputs": [
        {
          "output_type": "stream",
          "text": [
            "dog\n"
          ],
          "name": "stdout"
        }
      ]
    }
  ]
}